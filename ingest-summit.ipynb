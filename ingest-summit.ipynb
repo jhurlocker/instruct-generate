{
 "cells": [
  {
   "cell_type": "code",
   "execution_count": null,
   "metadata": {},
   "outputs": [],
   "source": [
    "%pip install docling"
   ]
  },
  {
   "cell_type": "markdown",
   "metadata": {},
   "source": [
    "Preload docling models\n",
    "\n",
    "pip install -U \"huggingface_hub[cli]\"\n",
    "huggingface-cli login\n",
    "huggingface-cli download ds4sd/docling-models"
   ]
  },
  {
   "cell_type": "code",
   "execution_count": null,
   "metadata": {},
   "outputs": [],
   "source": [
    "from docling.backend.pypdfium2_backend import PyPdfiumDocumentBackend\n",
    "from docling.datamodel.base_models import InputFormat\n",
    "from docling.document_converter import (\n",
    "    DocumentConverter,\n",
    "    PdfFormatOption,\n",
    "    WordFormatOption,\n",
    ")\n",
    "from docling.pipeline.simple_pipeline import SimplePipeline\n",
    "from docling.pipeline.standard_pdf_pipeline import StandardPdfPipeline\n",
    "from docling.datamodel.pipeline_options import PipelineOptions, PdfPipelineOptions\n",
    "\n",
    "import logging\n",
    "import os\n",
    "import json\n",
    "from dotenv import load_dotenv\n",
    "from pathlib import Path\n",
    "import glob\n",
    "\n",
    "\n",
    "logging.basicConfig(level=logging.INFO)\n",
    "logger = logging.getLogger(__name__)\n",
    "\n",
    "load_dotenv()\n",
    "file_type=os.getenv(\"FILE_TYPE\",\".PDF\")\n",
    "file_type_docx=os.getenv(\"FILE_TYPE\",\".DOCX\")\n",
    "file_source=os.getenv(\"FILE_SOURCE_LOCATION\",\"sourcedocs\")\n",
    "md_destination=os.getenv(\"MARKDOWN_LOCATION\",\"sourcedocs\")\n",
    "\n",
    "if file_type.lower() not in \".pdf .docx .odf .txt\":\n",
    "    raise Exception(\"Invalid or empty file type. Only PDF, DOCX or ODF files supported. Set in FILE_TYPE envar\")\n",
    "\n",
    "if not file_source:\n",
    "    raise Exception(\"Invalid or empty file source location. Set in FILE_SOURCE_LOCATION\")\n",
    "\n",
    "if not md_destination:\n",
    "    raise Exception(\"Invalid or empty file source location. Set in MARKDOWN_LOCATION\")\n",
    "\n",
    "file_list=[]"
   ]
  },
  {
   "cell_type": "markdown",
   "metadata": {},
   "source": [
    "Figure out what source of files we're dealing with and then list and filter them. Returning a list of files that we need to process."
   ]
  },
  {
   "cell_type": "code",
   "execution_count": null,
   "metadata": {},
   "outputs": [],
   "source": [
    "def filter_file_ext(filename) -> bool:\n",
    "    _, file_extension = os.path.splitext(filename)\n",
    "\n",
    "    if not file_extension:\n",
    "        return False\n",
    "    \n",
    "    if file_extension.lower().strip() in file_type.lower() or file_extension.lower().strip() in file_type_docx.lower():\n",
    "        return True\n",
    "    else:\n",
    "        return False"
   ]
  },
  {
   "cell_type": "code",
   "execution_count": null,
   "metadata": {},
   "outputs": [],
   "source": [
    "for file in glob.iglob(file_source+\"/*\", recursive=False):\n",
    "    #file_path = Path.joinpath(Path(file_source), file)\n",
    "    file_path = file\n",
    "    file_list.append(file_path)\n",
    "  \n",
    "filtered_files = filter(filter_file_ext,file_list)"
   ]
  },
  {
   "cell_type": "code",
   "execution_count": null,
   "metadata": {},
   "outputs": [],
   "source": [
    "pipeline_options = PdfPipelineOptions()\n",
    "pipeline_options.do_ocr = False\n",
    "\n",
    "\n",
    "doc_converter = (\n",
    "    DocumentConverter(  \n",
    "        allowed_formats=[\n",
    "            InputFormat.PDF,\n",
    "            InputFormat.DOCX,\n",
    "        ],  \n",
    "        format_options={\n",
    "            InputFormat.PDF: PdfFormatOption(\n",
    "                pipeline_cls=StandardPdfPipeline, backend=PyPdfiumDocumentBackend,pipeline_options=pipeline_options,\n",
    "            ),\n",
    "            InputFormat.DOCX: WordFormatOption(\n",
    "                pipeline_cls=SimplePipeline  \n",
    "            ),\n",
    "        },\n",
    "    )\n",
    ")"
   ]
  },
  {
   "cell_type": "code",
   "execution_count": null,
   "metadata": {},
   "outputs": [],
   "source": [
    "process_files=list(filtered_files)\n",
    "\n",
    "conv_results = doc_converter.convert_all(\n",
    "        process_files,\n",
    "        raises_on_error=False, \n",
    "    )\n",
    "out_path = Path(md_destination)\n",
    "\n",
    "for res in conv_results:\n",
    "    with (out_path / f\"{res.input.file.stem}.md\").open(\"wb\") as fp:\n",
    "                fp.write(res.document.export_to_markdown().encode(\"UTF-8\"))"
   ]
  },
  {
   "cell_type": "code",
   "execution_count": null,
   "metadata": {},
   "outputs": [],
   "source": []
  }
 ],
 "metadata": {
  "kernelspec": {
   "display_name": "Python 3.11",
   "language": "python",
   "name": "python3"
  },
  "language_info": {
   "codemirror_mode": {
    "name": "ipython",
    "version": 3
   },
   "file_extension": ".py",
   "mimetype": "text/x-python",
   "name": "python",
   "nbconvert_exporter": "python",
   "pygments_lexer": "ipython3",
   "version": "3.11.7"
  }
 },
 "nbformat": 4,
 "nbformat_minor": 4
}
